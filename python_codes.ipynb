{
 "cells": [
  {
   "cell_type": "markdown",
   "metadata": {},
   "source": [
    "## Python codes :"
   ]
  },
  {
   "cell_type": "markdown",
   "metadata": {},
   "source": [
    "#### Problem - Find all even numbers between range"
   ]
  },
  {
   "cell_type": "code",
   "execution_count": null,
   "metadata": {},
   "outputs": [],
   "source": [
    "def evenNum(lower,upper):\n",
    "    n = lower\n",
    "    while (n <= upper):\n",
    "        if ( n % 2 == 0):\n",
    "           print(n)\n",
    "        n=n+1\n",
    "evenNum(0,11)"
   ]
  },
  {
   "cell_type": "markdown",
   "metadata": {},
   "source": [
    "#### Problem - Find the prime number between 1 to 100"
   ]
  },
  {
   "cell_type": "code",
   "execution_count": null,
   "metadata": {},
   "outputs": [],
   "source": [
    "def isPrime(n):\n",
    "    for x in range(2,n):\n",
    "        if(n%x==0):\n",
    "            return False\n",
    "    return True;        \n",
    "\n",
    "def prime(n):\n",
    "    for x in range(2,n+1):\n",
    "         if(isPrime(x)==True):\n",
    "            print(x)    \n",
    "prime(100)"
   ]
  },
  {
   "cell_type": "markdown",
   "metadata": {},
   "source": [
    "#### Problem -  Count the prime number between 1 to 100"
   ]
  },
  {
   "cell_type": "code",
   "execution_count": null,
   "metadata": {},
   "outputs": [],
   "source": [
    "def isPrime(n):\n",
    "    for x in range(2,n):\n",
    "        if(n%x==0):\n",
    "            return False\n",
    "    return True;        \n",
    "\n",
    "def prime(n):\n",
    "    count=0\n",
    "    for x in range(2,n+1):\n",
    "         if(isPrime(x)==True):\n",
    "            count +=1\n",
    "    print(count)    \n",
    "prime(100)"
   ]
  },
  {
   "cell_type": "markdown",
   "metadata": {},
   "source": [
    "#### Problem -  Find the average of the numbers"
   ]
  },
  {
   "cell_type": "code",
   "execution_count": null,
   "metadata": {},
   "outputs": [],
   "source": [
    "values = [23,44,65,32,11,77,54]\n",
    "sum=0\n",
    "length=0\n",
    "for value in values:\n",
    "    sum += value\n",
    "    length += 1\n",
    "print(\"average :\", str(sum/length))"
   ]
  },
  {
   "cell_type": "markdown",
   "metadata": {},
   "source": [
    "#### Problem - Fahrenheit to celsius converter"
   ]
  },
  {
   "cell_type": "code",
   "execution_count": null,
   "metadata": {},
   "outputs": [],
   "source": [
    "def to_celsius(x):\n",
    "    return (x-32)*5/9\n",
    "\n",
    "for x in range(0,101,10):\n",
    "    print(str(x)+ \"F\" , to_celsius(x),\"*C\")    "
   ]
  },
  {
   "cell_type": "markdown",
   "metadata": {},
   "source": [
    "#### Problem - Print first 10! "
   ]
  },
  {
   "cell_type": "code",
   "execution_count": null,
   "metadata": {},
   "outputs": [],
   "source": [
    "def factorial(n):\n",
    "    result = 1\n",
    "    for x in range(1,n):\n",
    "        result = result*x\n",
    "    return result\n",
    "\n",
    "for x in range(1,10):\n",
    "    print(x, factorial(x+1)) "
   ]
  },
  {
   "cell_type": "markdown",
   "metadata": {},
   "source": [
    "#### Problem - Prints the multiples of 7 between 0 and 100"
   ]
  },
  {
   "cell_type": "code",
   "execution_count": null,
   "metadata": {},
   "outputs": [],
   "source": [
    "def printDividedBySevenInRange(n):\n",
    "    for x in range(0,n+1):\n",
    "        if(x%7==0):\n",
    "            print(x)\n",
    "\n",
    "printDividedBySevenInRange(100)"
   ]
  },
  {
   "cell_type": "markdown",
   "metadata": {},
   "source": [
    "#### Problem - Print multiples of the number till 100"
   ]
  },
  {
   "cell_type": "code",
   "execution_count": null,
   "metadata": {},
   "outputs": [],
   "source": [
    "def multiple_of(n):\n",
    "    for x in range(0,101):\n",
    "        if(x%n == 0):\n",
    "            print(x)\n",
    "       \n",
    "print(multiple_of(2))"
   ]
  },
  {
   "cell_type": "markdown",
   "metadata": {},
   "source": [
    "#### Problem - Find how many digits the number have "
   ]
  },
  {
   "cell_type": "code",
   "execution_count": null,
   "metadata": {},
   "outputs": [],
   "source": [
    "def digit(n):\n",
    "    count = 0\n",
    "    while (n>0):\n",
    "        count +=1\n",
    "        n=n//10\n",
    "    print(count)\n",
    "digit(25657)"
   ]
  },
  {
   "cell_type": "markdown",
   "metadata": {},
   "source": [
    "#### Problem - Check using length and breadth if given mesaurements will make a rectangle or square."
   ]
  },
  {
   "cell_type": "code",
   "execution_count": null,
   "metadata": {},
   "outputs": [],
   "source": [
    "def isRecOrSq(lenght,breath):\n",
    "    if lenght == breath:\n",
    "       print(\"This is a square\")\n",
    "    else:\n",
    "        print(\"This is a rectangle\")\n",
    "isRecOrSq(8,9)\n",
    "isRecOrSq(5,5)"
   ]
  },
  {
   "cell_type": "markdown",
   "metadata": {},
   "source": [
    "#### Problem - Sum of all the natural numbers upto 10"
   ]
  },
  {
   "cell_type": "code",
   "execution_count": null,
   "metadata": {},
   "outputs": [],
   "source": [
    "def sumNum(n):\n",
    "    x = 1\n",
    "    sum = 0\n",
    "    while (x <= n):\n",
    "        sum = sum + x\n",
    "        x=x+1\n",
    "    print(sum)\n",
    "sumNum(10)  "
   ]
  },
  {
   "cell_type": "markdown",
   "metadata": {},
   "source": [
    "#### Problem - Print all the numbers in the given list in the sequence till the number is divisble by 6\n",
    "``` list_set = [2,4,7,13,19,18,21,23,35,36]```"
   ]
  },
  {
   "cell_type": "code",
   "execution_count": null,
   "metadata": {},
   "outputs": [],
   "source": [
    "list_set = [2,4,7,13,19,18,21,23,35,36]\n",
    "n=0\n",
    "while n <= (len(list_set)-1):\n",
    "    if (list_set[n]%6==0):\n",
    "        break\n",
    "    print(list_set[n])\n",
    "    n=n+1 "
   ]
  },
  {
   "cell_type": "markdown",
   "metadata": {},
   "source": [
    "#### Problem - Print given pattern\n",
    "```\n",
    "*\n",
    "**\n",
    "***\n",
    "****\n",
    "*****\n",
    "```"
   ]
  },
  {
   "cell_type": "code",
   "execution_count": null,
   "metadata": {},
   "outputs": [],
   "source": [
    "def star(x):\n",
    "    n=1\n",
    "    while (n <= x):\n",
    "        m=1\n",
    "        while (m <= n):\n",
    "            print(\"*\",end=\"\")\n",
    "            m=m+1\n",
    "        n=n+1\n",
    "        print()\n",
    "star(5)"
   ]
  },
  {
   "cell_type": "markdown",
   "metadata": {},
   "source": [
    "#### Problem - Print multiplication table till 10 for numbers from 1 to 9 using a nested while and for loop"
   ]
  },
  {
   "cell_type": "code",
   "execution_count": null,
   "metadata": {},
   "outputs": [],
   "source": [
    "def table(n):\n",
    "    x=1\n",
    "    while (x<=10):\n",
    "        print(n*x,end=\" \")\n",
    "        x=x+1\n",
    "\n",
    "def table1(n):\n",
    "    m=1\n",
    "    while(n>m):\n",
    "        table(m)\n",
    "        print()\n",
    "        m=m+1\n",
    "table1(11) "
   ]
  },
  {
   "cell_type": "markdown",
   "metadata": {},
   "source": [
    "#### Problem - print given pattern\n",
    "```\n",
    "*****\n",
    "****\n",
    "***\n",
    "**\n",
    "*\n",
    "```"
   ]
  },
  {
   "cell_type": "code",
   "execution_count": null,
   "metadata": {},
   "outputs": [],
   "source": [
    "def star(n):\n",
    "    while(n>0):\n",
    "        print(\"*\",end=\"\")\n",
    "        n=n-1\n",
    "\n",
    "def starNew(m):\n",
    "    while(m>0):\n",
    "        star(m)\n",
    "        m=m-1\n",
    "        print()\n",
    "\n",
    "starNew(5)"
   ]
  },
  {
   "cell_type": "markdown",
   "metadata": {},
   "source": [
    "#### Problem - print given pattern\n",
    "```   \n",
    "    *\n",
    "   **\n",
    "  ***\n",
    " ****\n",
    "*****"
   ]
  },
  {
   "cell_type": "code",
   "execution_count": null,
   "metadata": {},
   "outputs": [],
   "source": [
    "def star(x):\n",
    "    s= x-1 #number of spaces\n",
    "    \n",
    "    for m in range(0,x):     #for number of rows\n",
    "        for n in range(0,s):     #for number of spaces\n",
    "            print(end=\" \")     \n",
    "        s= s-1\n",
    "        for n in range(0,m+1):         #for number of columns\n",
    "            print(\"*\",end=\"\") \n",
    "        print() \n",
    "\n",
    "star(5)"
   ]
  },
  {
   "cell_type": "markdown",
   "metadata": {},
   "source": [
    "#### Problem - Find the number of words with length of 5, present in the given sentence\n",
    "```\n",
    "s = \"The Dowry system is evil in society. It has reduced the sacred affair of marriage to a business deal. Brides are treated as a marketable commodity. The parents of the brides are often put under inhuman pressure for a handsome dowry. Sometimes they become paupers to get their daughters married. In many cases, young brides are ruthlessly tortured or pushed to suicide\" \n",
    "```"
   ]
  },
  {
   "cell_type": "code",
   "execution_count": null,
   "metadata": {},
   "outputs": [],
   "source": [
    "import re\n",
    "\n",
    "\n",
    "s = \"The Dowry system is evil in society. It has reduced the sacred affair of marriage to a business deal. Brides are treated as a marketable commodity. The parents of the brides are often put under inhuman pressure for a handsome dowry. Sometimes they become paupers to get their daughters married. In many cases, young brides are ruthlessly tortured or pushed to suicide\"\n",
    "x = re.split('. | ' ' | , ',s)\n",
    "count = 0\n",
    "for i in x:\n",
    "    if len(i)==5:\n",
    "        count = count +1;\n",
    "print(count)   \n"
   ]
  },
  {
   "cell_type": "markdown",
   "metadata": {},
   "source": [
    "#### Problem - Calculate the number of digits and number of characters.(it includes letters, digits, special characters including space) in the given string and find the sum of the digits\n",
    "```\n",
    "lng_str = \"jjt8g%ust!58thg8rthgurt5out9t yfohu%$lkfw3uw4twkejlrwe7werhwa1khed7fjfslfjd9dhh!ehhl*ksf8fjlko%o995h@g87strf7fef4sen98%t1jj2(jghj6j$&jshh47@dhkljkaf6a\"\n",
    "```"
   ]
  },
  {
   "cell_type": "code",
   "execution_count": null,
   "metadata": {},
   "outputs": [],
   "source": [
    "lng_str = \"jjt8g%ust!58thg8rthgurt5out9t yfohu%$lkfw3uw4twkejlrwe7werhwa1khed7fjfslfjd9dhh!ehhl*ksf8fjlko%o995h@g87strf7fef4sen98%t1jj2(jghj6j$&jshh47@dhkljkaf6a\"\n",
    "sum = 0\n",
    "for element in lng_str:\n",
    "    if element.isdigit():\n",
    "        sum += int(element)\n",
    "\n",
    "print(sum)"
   ]
  },
  {
   "cell_type": "markdown",
   "metadata": {},
   "source": [
    "#### problem - Find if 10 is part of the list\n",
    "```\n",
    "l = [10, 20, 30, 'Relevel']\n",
    "```"
   ]
  },
  {
   "cell_type": "code",
   "execution_count": null,
   "metadata": {},
   "outputs": [],
   "source": [
    "l = [10, 20, 30, 'Relevel']\n",
    "if 10 in l:\n",
    "    print(\"True\")"
   ]
  },
  {
   "cell_type": "markdown",
   "metadata": {},
   "source": [
    "#### Problem - Find the capital of 'Maharashtra in the Dict\n",
    "```\n",
    "cities = {'Maharashtra': 'Mumbai', 'Tamil Nadu': 'Chennai', 'Rajasthan': 'Jaipur', 'Punjab': 'Chandigarh', 'Haryana': 'Chandigarh'}\n",
    "```"
   ]
  },
  {
   "cell_type": "code",
   "execution_count": null,
   "metadata": {},
   "outputs": [],
   "source": [
    "cities = {'Maharashtra': 'Mumbai', 'Tamil Nadu': 'Chennai', 'Rajasthan': 'Jaipur', 'Punjab': 'Chandigarh', 'Haryana': 'Chandigarh'}\n",
    "print(cities['Maharashtra'])"
   ]
  },
  {
   "cell_type": "markdown",
   "metadata": {},
   "source": [
    "#### Problem - Iterate all the values of the states from the Dict\n",
    "```\n",
    "cities = {'Maharashtra': 'Mumbai', 'Tamil Nadu': 'Chennai', 'Rajasthan': 'Jaipur', 'Punjab': 'Chandigarh', 'Haryana': 'Chandigarh'}\n",
    "```"
   ]
  },
  {
   "cell_type": "code",
   "execution_count": null,
   "metadata": {},
   "outputs": [],
   "source": [
    "print(cities.values())"
   ]
  },
  {
   "cell_type": "markdown",
   "metadata": {},
   "source": [
    "#### Problem - Check if Nested_dict has a key \"Key_1\" \n",
    "```\n",
    "Dummy_Dict = {'Key1': 'Value 1', 0: 1, 'Nested_dict': {'Key_1': 'V1', 'Key2': 2}, 'List_Values': [0, 1, 2, 3, 4]}\n",
    "```"
   ]
  },
  {
   "cell_type": "code",
   "execution_count": null,
   "metadata": {},
   "outputs": [],
   "source": [
    "Dummy_Dict = {'Key1': 'Value 1', 0: 1, 'Nested_dict': {'Key_1': 'V1', 'Key2': 2}, 'List_Values': [0, 1, 2, 3, 4]}\n",
    "\n",
    "if 'Key_1' in Dummy_Dict['Nested_dict']:\n",
    "    print(\"Nested_dict has a key- 'Key_1'\")"
   ]
  },
  {
   "cell_type": "markdown",
   "metadata": {},
   "source": [
    "#### Problem - Iterate all the values of the tuple\n",
    "```\n",
    "t = (10, 20, 30, 'Relevel')\n",
    "```"
   ]
  },
  {
   "cell_type": "code",
   "execution_count": null,
   "metadata": {},
   "outputs": [],
   "source": [
    "t = (10, 20, 30, 'Relevel')\n",
    "for i in t:\n",
    "    print(i)\n"
   ]
  },
  {
   "cell_type": "markdown",
   "metadata": {},
   "source": [
    "#### Problem - Iterate following list as a set variable\n",
    "```\n",
    "l = [1,1,1,1,2,2,3,3,4,5,5,5,5,5]\n",
    "```\n"
   ]
  },
  {
   "cell_type": "code",
   "execution_count": null,
   "metadata": {},
   "outputs": [],
   "source": [
    "l = [1,1,1,1,2,2,3,3,4,5,5,5,5,5]\n",
    "set_var = set(l)\n",
    "for i in set_var:\n",
    "    print(i)"
   ]
  },
  {
   "cell_type": "markdown",
   "metadata": {},
   "source": [
    "#### Problem - print the multiplication table till 5 for each item in elements list\n",
    "```\n",
    "number = [1,2,3,4,5]\n",
    "elements = [5,10]\n",
    "```"
   ]
  },
  {
   "cell_type": "code",
   "execution_count": null,
   "metadata": {},
   "outputs": [],
   "source": [
    "number = [1,2,3,4,5]\n",
    "elements = [5,10]\n",
    "for y in elements: \n",
    "    for x in number:\n",
    "        print(x*y) \n",
    "    print()"
   ]
  },
  {
   "cell_type": "markdown",
   "metadata": {},
   "source": [
    "#### Problem - Print all the letters in word PYTHON except letter \"T\""
   ]
  },
  {
   "cell_type": "code",
   "execution_count": null,
   "metadata": {},
   "outputs": [],
   "source": [
    "x = \"PYTHON\"\n",
    "for i in x:\n",
    "    if i=='T':\n",
    "        continue\n",
    "    print(i)"
   ]
  },
  {
   "cell_type": "markdown",
   "metadata": {},
   "source": [
    "#### Problem - Print all the letters in the word PYTHON except letter \"Y\" using pass statement\n"
   ]
  },
  {
   "cell_type": "code",
   "execution_count": null,
   "metadata": {},
   "outputs": [],
   "source": [
    "x = \"PYTHON\"\n",
    "for i in x:\n",
    "    if i=='Y':\n",
    "        pass\n",
    "    else:\n",
    "        print(i)"
   ]
  },
  {
   "cell_type": "markdown",
   "metadata": {},
   "source": [
    "#### Problem - Display numbers in given list before number 10\n",
    "```\n",
    "seq = [2,4,20, 14, 10, 29, 33,7]\n",
    "```"
   ]
  },
  {
   "cell_type": "code",
   "execution_count": null,
   "metadata": {},
   "outputs": [],
   "source": [
    "seq = [2,4,20, 14, 10, 29, 33,7]\n",
    "for i in seq:\n",
    "    if i ==10:\n",
    "        break\n",
    "    print(i)"
   ]
  },
  {
   "cell_type": "markdown",
   "metadata": {},
   "source": [
    "#### Problem : Print a random integer between 100 and 135"
   ]
  },
  {
   "cell_type": "code",
   "execution_count": null,
   "metadata": {},
   "outputs": [],
   "source": [
    "for i in range(100,136):\n",
    "    print(i)"
   ]
  },
  {
   "cell_type": "markdown",
   "metadata": {},
   "source": [
    "#### Problem : Given below is a list, convert into a set and print the output also print the length of the set.\n",
    "```list4=[1,2,4,6,3,2,5,4,7,4,6,5,3,2,2,1]```"
   ]
  },
  {
   "cell_type": "code",
   "execution_count": null,
   "metadata": {},
   "outputs": [],
   "source": [
    "list4=[1,2,4,6,3,2,5,4,7,4,6,5,3,2,2,1]\n",
    "set1=set(list4)\n",
    "print(set1)\n",
    "print(len(set1))"
   ]
  },
  {
   "cell_type": "markdown",
   "metadata": {},
   "source": [
    "#### Problem : Given below are two sets, perform the operations given below:\n",
    "```\n",
    "a={1,2,3,5,6,7}\n",
    "b={4,5,8,9,2,3}\n",
    "```\n",
    "1. Print their union\n",
    "2. Print their intersection\n",
    "3. Print their difference\n",
    "4. Print their symmetric difference"
   ]
  },
  {
   "cell_type": "code",
   "execution_count": null,
   "metadata": {},
   "outputs": [],
   "source": [
    "a={1,2,3,5,6,7}\n",
    "b={4,5,8,9,2,3}\n",
    "print(\"Union:\", a.union(b))\n",
    "print(\"Intersection:\", a.intersection(b))\n",
    "print(\"Difference:\", a.difference(b))\n",
    "print(\"Symmetric_Diff:\", a.symmetric_difference(b))"
   ]
  },
  {
   "cell_type": "markdown",
   "metadata": {},
   "source": [
    "#### Problem : Find out the index of the number **1000000**.\n",
    "\n",
    "```new_list = [ -100000000, -10000000, -1000000, -100000, -10000, -1000, -100, -10, 1, 10, 100, 1000, 10000, 100000, 1000000, 10000000, 100000000]```"
   ]
  },
  {
   "cell_type": "code",
   "execution_count": null,
   "metadata": {},
   "outputs": [],
   "source": [
    "new_list = [ -100000000, -10000000, -1000000, -100000, -10000, -1000, -100, -10, 1, 10, 100, 1000, 10000, 100000, 1000000, 10000000, 100000000]\n",
    "print(new_list.index(1000000))"
   ]
  },
  {
   "cell_type": "markdown",
   "metadata": {},
   "source": [
    "#### Problem - Access 5 and 11 from the list\n",
    "\n",
    "```\n",
    "lst = [9, 10, [11, 12]]\n",
    "nested_list = [1, 2, 3, [4, 5, 6], 7, 8, lst]\n",
    "```"
   ]
  },
  {
   "cell_type": "code",
   "execution_count": null,
   "metadata": {},
   "outputs": [],
   "source": [
    "lst = [9, 10, [11, 12]]\n",
    "nested_list = [1, 2, 3, [4, 5, 6], 7, 8, lst]\n",
    "print(nested_list[3][1])\n",
    "print(nested_list[6][2][0])"
   ]
  },
  {
   "cell_type": "markdown",
   "metadata": {},
   "source": [
    "#### Problem - Print [0, 2, 4, 6, 8] from the below list.\n",
    "\n",
    "```\n",
    "num_range = [0,1,2,3,4,5,6,7,8,9]\n",
    "```"
   ]
  },
  {
   "cell_type": "code",
   "execution_count": null,
   "metadata": {},
   "outputs": [],
   "source": [
    "num_range = [0,1,2,3,4,5,6,7,8,9]\n",
    "num_range[0:10:2]"
   ]
  },
  {
   "cell_type": "markdown",
   "metadata": {},
   "source": [
    "#### Problem - Find out the maximum, minimum value from below list. Additionally, find the sum of all values.\n",
    "\n",
    "```\n",
    "New_list = [25, 67, 35, 25, 78, 91, 25, 10 , 55, 67, 84, 34, 55, 25, 78, 90, 57, 30, 78, 91, 49, 62, 90, 10, 11, 55, 27, 78, 67, 30, 79, 184, 92, 14, 19, 78, 25, 235, 67, 35, 25, 78, 91, 25, 10 , 55, 67, 84, 34, 55, 25, 55, 27, 78, 67, 30, 79, 184, 92, 14, 19, 78, 25, 35, 167, 35, 25, 78, 55, 67, 84, 34, 55, 125, 78, 90, 57, 30, 78, 91, 49, 62, 90, 110, 311, 55, 27, 78, 67, 30, 79, 84, 92, 14 ]\n",
    "```"
   ]
  },
  {
   "cell_type": "code",
   "execution_count": null,
   "metadata": {},
   "outputs": [],
   "source": [
    "new_list = [25, 67, 35, 25, 78, 91, 25, 10 , 55, 67, 84, 34, 55, 25, 78, 90, 57, 30, 78, 91, 49, 62, 90, 10, 11, 55, 27, 78, 67, 30, 79, 184, 92, 14, 19, 78, 25, 235, 67, 35, 25, 78, 91, 25, 10 , 55, 67, 84, 34, 55, 25, 55, 27, 78, 67, 30, 79, 184, 92, 14, 19, 78, 25, 35, 167, 35, 25, 78, 55, 67, 84, 34, 55, 125, 78, 90, 57, 30, 78, 91, 49, 62, 90, 110, 311, 55, 27, 78, 67, 30, 79, 84, 92, 14 ]\n",
    "print(max(new_list))\n",
    "print(min(new_list))\n",
    "sum(new_list)"
   ]
  },
  {
   "cell_type": "markdown",
   "metadata": {},
   "source": [
    "#### Problem - Print first name and last name by taking first and last name as arguments"
   ]
  },
  {
   "cell_type": "code",
   "execution_count": null,
   "metadata": {},
   "outputs": [],
   "source": [
    "first_name = \"Abhilasha\"\n",
    "last_name = \"Yagyaseni\"\n",
    "print(\"My name is :\", first_name, last_name)"
   ]
  },
  {
   "cell_type": "markdown",
   "metadata": {},
   "source": [
    "#### Problem - Print if number is odd or even for all the numbers in the given list\n",
    "```\n",
    "num_list = [10,23,24,90,43, 83, 89]\n",
    "```"
   ]
  },
  {
   "cell_type": "code",
   "execution_count": null,
   "metadata": {},
   "outputs": [],
   "source": [
    "num_list = [10,23,24,90,43, 83, 89]\n",
    "for i in num_list:\n",
    "    if i % 2 ==0:\n",
    "        print(\"Even\")\n",
    "    else:\n",
    "        print(\"Odd\")"
   ]
  },
  {
   "cell_type": "markdown",
   "metadata": {},
   "source": [
    "#### Problem - Sort the name of states according to given codes in ascending order.\n",
    "\n",
    "```State_and_codes= [('Maharashtra', 102), ('Madhya Pradesh', 80), ('Tamil Nadu', 97), ('West Bengal', 78)]```"
   ]
  },
  {
   "cell_type": "code",
   "execution_count": null,
   "metadata": {},
   "outputs": [],
   "source": [
    "State_and_codes= [('Maharashtra', 102), ('Madhya Pradesh', 80), ('Tamil Nadu', 97), ('West Bengal', 78)]\n",
    "sorted(State_and_codes)"
   ]
  },
  {
   "cell_type": "markdown",
   "metadata": {},
   "source": [
    "#### Program - Write a function that takes in a list and returns a new list with all the unique elements (without using Python inbuilt functions)"
   ]
  },
  {
   "cell_type": "code",
   "execution_count": null,
   "metadata": {},
   "outputs": [],
   "source": [
    "list1 = [1, 2, 1, 1, 3, 4, 3, 3, 5]\n",
    "new_list = []\n",
    "for i in list1:\n",
    "    if i not in new_list:\n",
    "        new_list.append(i)\n",
    "print(new_list)"
   ]
  },
  {
   "cell_type": "markdown",
   "metadata": {},
   "source": [
    "#### Problem - Write a Python function that checks whether a passed string is palindrome or not.\n",
    "\n",
    "Note: A palindrome is a word, phrase, or sequence that reads the same backward as forward, e.g. step on no pets."
   ]
  },
  {
   "cell_type": "code",
   "execution_count": null,
   "metadata": {},
   "outputs": [],
   "source": [
    "def isPalindrome(x):\n",
    "    if x.strip() == x.strip()[::-1]:\n",
    "        print('String is palindrome')\n",
    "    else:\n",
    "        print('String is not palindrome')\n",
    "\n",
    "isPalindrome('step on no pets')"
   ]
  },
  {
   "cell_type": "markdown",
   "metadata": {},
   "source": [
    "#### Problem - Write a function prodDigits() that inputs a number and returns the product of digits of that number.\n",
    "\n",
    "Input : 54 ||\n",
    "Output : 20  \n",
    "\n",
    "Input : 34 ||\n",
    "Output : 12  "
   ]
  },
  {
   "cell_type": "code",
   "execution_count": null,
   "metadata": {},
   "outputs": [],
   "source": [
    "def prodDigits(input):\n",
    "    result = 1\n",
    "    for i in str(input):\n",
    "        result = result*int(i)\n",
    "    return result\n",
    "print(prodDigits(54))\n",
    "print(prodDigits(34))"
   ]
  },
  {
   "cell_type": "markdown",
   "metadata": {},
   "source": [
    "#### Problem - Convert list of mixed values into int datatype.\n",
    "\n",
    "```l = [1, 2, \"3\", 4, 5.0]```\n",
    "\n",
    "Note: Use `isinstance` function to validate datatype."
   ]
  },
  {
   "cell_type": "code",
   "execution_count": null,
   "metadata": {},
   "outputs": [],
   "source": [
    "l = [1, 2, \"3\", 4, 5.0]\n",
    "new_l = [int(i) for i in l]\n",
    "print(new_l)\n",
    "\n",
    "for n in new_l:\n",
    "    print(isinstance(n,int))"
   ]
  },
  {
   "cell_type": "markdown",
   "metadata": {},
   "source": [
    "#### Problem - Write a map function that multiplies 3 to each item in the list.\n",
    "\n",
    "```num_list=[10, 20, 30, 40, 50, 60]```"
   ]
  },
  {
   "cell_type": "code",
   "execution_count": null,
   "metadata": {},
   "outputs": [],
   "source": [
    "num_list=[10, 20, 30, 40, 50, 60]\n",
    "def multiply(n):\n",
    "    return n*3\n",
    "result = map(multiply,num_list)\n",
    "print(list(result))"
   ]
  },
  {
   "cell_type": "markdown",
   "metadata": {},
   "source": [
    "#### Problem - Filter and print all the vowels using filter function from the word \"Abhilasha\""
   ]
  },
  {
   "cell_type": "code",
   "execution_count": null,
   "metadata": {},
   "outputs": [],
   "source": [
    "result = filter(lambda x:(x in  [\"a\",\"e\",\"i\",\"o\",\"u\"]),\"Abhialsha\".lower())\n",
    "print(list(result))\n"
   ]
  },
  {
   "cell_type": "markdown",
   "metadata": {},
   "source": [
    "#### Problem - Find the factorial of 6 using reduce function"
   ]
  },
  {
   "cell_type": "code",
   "execution_count": null,
   "metadata": {},
   "outputs": [],
   "source": []
  },
  {
   "cell_type": "markdown",
   "metadata": {},
   "source": [
    "#### Problem - Convert list of strings into integer\n",
    "\n",
    "```str_nums = [\"4\", \"8\", \"6\", \"5\", \"3\", \"2\", \"8\", \"9\", \"2\", \"5\"]```"
   ]
  },
  {
   "cell_type": "code",
   "execution_count": null,
   "metadata": {},
   "outputs": [],
   "source": [
    "str_nums = [\"4\", \"8\", \"6\", \"5\", \"3\", \"2\", \"8\", \"9\", \"2\", \"5\"]\n",
    "result = map(lambda x:int(x),str_nums)\n",
    "print(list(result))"
   ]
  },
  {
   "cell_type": "markdown",
   "metadata": {},
   "source": [
    "#### Problem - Converting Temperatures (From Fahrenheit to Celsius and vice versa) using a map function\n",
    "\n",
    "Fahrenheit to Celsius formula conversion: <br>\n",
    "Fahrenheit (F) = 9 / 5 * celsius + 32 <br>\n",
    "\n",
    "Celsius (C) = (fahrenheit - 32) * 5 / 9\n",
    "\n",
    "Convert following celsius temperature to fahrenheit. <br>\n",
    "celsius_temps = [100, 40, 80]\n",
    "\n",
    "Convert following fahrenheit temperature to celsius. <br>\n",
    "fahr_temps = [212, 104, 176]"
   ]
  },
  {
   "cell_type": "code",
   "execution_count": null,
   "metadata": {},
   "outputs": [],
   "source": [
    "celsius_temps = [100, 40, 80]\n",
    "con_into_fah = map(lambda x:(9/5)*x+32,celsius_temps)\n",
    "print(\"Fahrenheit temp: \" + str(list(con_into_fah)))\n",
    "\n",
    "\n",
    "fahr_temps = [212, 104, 176]\n",
    "con_into_cel = map(lambda x : (x-32)*5/9, fahr_temps)\n",
    "print(\"Celsius temp : \"+ str(list(con_into_cel)))"
   ]
  },
  {
   "cell_type": "markdown",
   "metadata": {},
   "source": [
    "#### Program - Write a function to check if following words are palindrome\n",
    "\n",
    "```words = (\"filter\", \"Ana\", \"hello\", \"world\", \"madam\", \"racecar\")```"
   ]
  },
  {
   "cell_type": "code",
   "execution_count": null,
   "metadata": {},
   "outputs": [],
   "source": [
    "words = (\"filter\", \"Ana\", \"hello\", \"world\", \"madam\", \"racecar\")\n",
    "for i in words:\n",
    "        lower = i.lower()\n",
    "        if lower == lower[::-1]:\n",
    "            print(True)\n",
    "        else:\n",
    "            print(False)"
   ]
  },
  {
   "cell_type": "markdown",
   "metadata": {},
   "source": [
    "#### Problem - Check if “listen” and “silent” are an anagram of each other."
   ]
  },
  {
   "cell_type": "code",
   "execution_count": null,
   "metadata": {},
   "outputs": [],
   "source": [
    "str_1 = \"listen\"\n",
    "str_2 = \"silent\"\n",
    "if sorted(str_1) == sorted(str_2):\n",
    "    print(\"This is an anagram\")\n"
   ]
  },
  {
   "cell_type": "markdown",
   "metadata": {},
   "source": [
    "#### Problem - create an array with random integer."
   ]
  },
  {
   "cell_type": "code",
   "execution_count": null,
   "metadata": {},
   "outputs": [],
   "source": [
    "import numpy as np\n",
    "arr = np.random.randint(1,100,12)\n",
    "arr = arr.reshape(2,2,3)\n",
    "arr"
   ]
  },
  {
   "cell_type": "markdown",
   "metadata": {},
   "source": [
    "#### Problem - Create an empty array."
   ]
  },
  {
   "cell_type": "code",
   "execution_count": null,
   "metadata": {},
   "outputs": [],
   "source": [
    "import numpy as np\n",
    "arr = np.array([[6,2],[7,2]])\n",
    "arr.shape"
   ]
  },
  {
   "cell_type": "markdown",
   "metadata": {},
   "source": [
    "#### problem - Get the values from the given matrix.\n",
    "``` data type, Max value, Min value, shape of the matrix```\n",
    "    "
   ]
  },
  {
   "cell_type": "code",
   "execution_count": null,
   "metadata": {},
   "outputs": [],
   "source": [
    "import numpy as np\n",
    "\n",
    "val = np.matrix('[16,18;21,19]')\n",
    "print(type(val))\n",
    "print(val)\n",
    "print(\"Max value - \", val.max())\n",
    "print(\"Min value - \", val.min())\n",
    "print(\"Shape of the matrix -\", val.shape)\n"
   ]
  },
  {
   "cell_type": "markdown",
   "metadata": {},
   "source": [
    "#### Problem - Create dataframe."
   ]
  },
  {
   "cell_type": "code",
   "execution_count": null,
   "metadata": {},
   "outputs": [
    {
     "data": {
      "text/plain": [
       "pandas.core.frame.DataFrame"
      ]
     },
     "execution_count": 46,
     "metadata": {},
     "output_type": "execute_result"
    }
   ],
   "source": [
    "import pandas as pd\n",
    "import numpy as np\n",
    "\n",
    "df = pd.DataFrame(data = np.arange(0,20).reshape(4,5), index = [\"R1\",\"R2\",\"R3\",\"R4\"], columns = [\"C1\",\"C2\",\"C3\",\"C4\",\"C5\"] )\n",
    "type(df)"
   ]
  },
  {
   "cell_type": "markdown",
   "metadata": {},
   "source": []
  },
  {
   "cell_type": "code",
   "execution_count": null,
   "metadata": {},
   "outputs": [],
   "source": []
  },
  {
   "cell_type": "markdown",
   "metadata": {},
   "source": []
  },
  {
   "cell_type": "code",
   "execution_count": null,
   "metadata": {},
   "outputs": [],
   "source": []
  },
  {
   "cell_type": "markdown",
   "metadata": {},
   "source": []
  },
  {
   "cell_type": "code",
   "execution_count": null,
   "metadata": {},
   "outputs": [],
   "source": []
  },
  {
   "cell_type": "markdown",
   "metadata": {},
   "source": []
  },
  {
   "cell_type": "code",
   "execution_count": null,
   "metadata": {},
   "outputs": [],
   "source": []
  }
 ],
 "metadata": {
  "kernelspec": {
   "display_name": "Python 3.10.6 64-bit",
   "language": "python",
   "name": "python3"
  },
  "language_info": {
   "codemirror_mode": {
    "name": "ipython",
    "version": 3
   },
   "file_extension": ".py",
   "mimetype": "text/x-python",
   "name": "python",
   "nbconvert_exporter": "python",
   "pygments_lexer": "ipython3",
   "version": "3.10.6 (tags/v3.10.6:9c7b4bd, Aug  1 2022, 21:53:49) [MSC v.1932 64 bit (AMD64)]"
  },
  "orig_nbformat": 4,
  "vscode": {
   "interpreter": {
    "hash": "e1951bf4f1e4a54478a85c93f8dddae7818183ab5295aaafecafdf6faf422790"
   }
  }
 },
 "nbformat": 4,
 "nbformat_minor": 2
}
